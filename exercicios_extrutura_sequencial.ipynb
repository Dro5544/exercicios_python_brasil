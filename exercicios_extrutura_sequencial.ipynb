{
  "nbformat": 4,
  "nbformat_minor": 0,
  "metadata": {
    "colab": {
      "name": "exercicios_extrutura_sequencial.ipynb",
      "provenance": [],
      "authorship_tag": "ABX9TyPqBTnPfMqLZLUVZqc/Mnq1",
      "include_colab_link": true
    },
    "kernelspec": {
      "name": "python3",
      "display_name": "Python 3"
    },
    "language_info": {
      "name": "python"
    }
  },
  "cells": [
    {
      "cell_type": "markdown",
      "metadata": {
        "id": "view-in-github",
        "colab_type": "text"
      },
      "source": [
        "<a href=\"https://colab.research.google.com/github/Dro5544/escolapython/blob/main/exercicios_extrutura_sequencial.ipynb\" target=\"_parent\"><img src=\"https://colab.research.google.com/assets/colab-badge.svg\" alt=\"Open In Colab\"/></a>"
      ]
    },
    {
      "cell_type": "code",
      "execution_count": null,
      "metadata": {
        "id": "mu5XBdsYqDtU"
      },
      "outputs": [],
      "source": [
        "# Exercíco 01: Faça um Programa que mostre a mensagem \"Alo mundo\" na tela.\n",
        "\n",
        "mensagem = \"alo mundo\"\n",
        "print(mensagem)"
      ]
    },
    {
      "cell_type": "code",
      "source": [
        "# Exercício 02: Faça um Programa que peça um número e então mostre a mensagem O número informado foi [número].\n",
        "\n",
        "mensagem = input(\"coloque aqui o valor desejado\")\n",
        "\n",
        "print(\"O número informado foi {}\".format(mensagem))"
      ],
      "metadata": {
        "id": "i63IruZErBlR"
      },
      "execution_count": null,
      "outputs": []
    },
    {
      "cell_type": "code",
      "source": [
        "# Exercício 03: Faça um Programa que peça dois números e imprima a soma.\n",
        "\n",
        "numero1 = int(input(\"insira o primeiro valor\"))\n",
        "numero2 = int(input(\"insira o segundo valor\"))\n",
        "\n",
        "print (numero1 + numero2)"
      ],
      "metadata": {
        "colab": {
          "base_uri": "https://localhost:8080/"
        },
        "id": "Hv7xf_VerdX8",
        "outputId": "10a8e8f1-6a29-4e08-9199-1e81ea202b92"
      },
      "execution_count": null,
      "outputs": [
        {
          "output_type": "stream",
          "name": "stdout",
          "text": [
            "insira o prmeiro valor2\n",
            "insira o segundo valor2\n",
            "4\n"
          ]
        }
      ]
    },
    {
      "cell_type": "code",
      "source": [
        "# Exercício 04: Faça um Programa que peça as 4 notas bimestrais e mostre a média.\n",
        "\n",
        "nota1 = int(input(\"insira o primeiro valor\"))\n",
        "nota2 = int(input(\"insira o segundo valor\"))\n",
        "nota3 = int(input(\"insira o teceiro valor\"))\n",
        "nota4 = int(input(\"insira o quarto valor\"))\n",
        "\n",
        "print((nota1 + nota2 + nota3 + nota4) / 4)\n"
      ],
      "metadata": {
        "id": "yQzZYuf_s6J1"
      },
      "execution_count": null,
      "outputs": []
    },
    {
      "cell_type": "code",
      "source": [
        "# Exercício 05: Faça um Programa que converta metros para centímetros.\n",
        "\n",
        "metros = 20\n",
        "centimetros = (metros * 100)\n",
        "\n",
        "print(centimetros)"
      ],
      "metadata": {
        "colab": {
          "base_uri": "https://localhost:8080/"
        },
        "id": "jzqjaYIvugSd",
        "outputId": "59ef8f96-cd34-407e-855f-a4249e18e0d4"
      },
      "execution_count": null,
      "outputs": [
        {
          "output_type": "stream",
          "name": "stdout",
          "text": [
            "2000\n"
          ]
        }
      ]
    },
    {
      "cell_type": "code",
      "source": [
        "# Exercício 06: Faça um Programa que peça o raio de um círculo, calcule e mostre sua área.\n",
        "\n",
        "raio = 10\n",
        "r = raio\n",
        "a = (3.14 * r)**2\n",
        "\n",
        "print(b)"
      ],
      "metadata": {
        "colab": {
          "base_uri": "https://localhost:8080/"
        },
        "id": "CRf23RXeuuSv",
        "outputId": "1c4abc23-ff49-456a-f36e-2b8616e75f8a"
      },
      "execution_count": null,
      "outputs": [
        {
          "output_type": "stream",
          "name": "stdout",
          "text": [
            "8\n"
          ]
        }
      ]
    },
    {
      "cell_type": "code",
      "source": [
        "# Exercício 07: Faça um Programa que calcule a área de um quadrado, em seguida mostre o dobro desta área para o usuário.\n",
        "\n",
        "b = 2\n",
        "h = 2\n",
        "a = b*h\n",
        "\n",
        "print(2*a) "
      ],
      "metadata": {
        "colab": {
          "base_uri": "https://localhost:8080/"
        },
        "id": "6COc_Vr_vtCm",
        "outputId": "e792e5a0-5552-460e-fcef-654b233968af"
      },
      "execution_count": null,
      "outputs": [
        {
          "output_type": "stream",
          "name": "stdout",
          "text": [
            "8\n"
          ]
        }
      ]
    },
    {
      "cell_type": "code",
      "source": [
        "# Exercício 08: Faça um Programa que pergunte quanto você ganha por hora e o número de horas trabalhadas no mês. \n",
        "## Calcule e mostre o total do seu salário no referido mês.\n",
        "\n",
        "valor_hora = int(input(\"Quanto você ganha por hora? \"))\n",
        "horas_mes = int(input(\"Quantas horas você trabalha no mês? \"))\n",
        "\n",
        "print(valor_hora * horas_mes)"
      ],
      "metadata": {
        "id": "VNhzdNRqxQ46"
      },
      "execution_count": null,
      "outputs": []
    },
    {
      "cell_type": "code",
      "source": [
        "# Exercício 09: Faça um Programa que peça a temperatura em graus Fahrenheit, transforme e mostre a temperatura em graus Celsius. C = 5 * ((F-32) / 9).\n",
        "\n",
        "f = float(input(\"Valor em Fahrenheit:\" ))\n",
        "c = 5 * ((f-32) / 9)\n",
        "\n",
        "print(c)"
      ],
      "metadata": {
        "id": "nwE4CikPxjff"
      },
      "execution_count": null,
      "outputs": []
    },
    {
      "cell_type": "code",
      "source": [
        "# Exercício 10: Faça um Programa que peça a temperatura em graus Celsius, transforme e mostre em graus Fahrenheit.\n",
        "\n",
        "c = float(input(\"Valor em Fahrenheit:\" ))\n",
        "f = ((9 * c) / 5) + 32\n",
        "\n",
        "print(f)"
      ],
      "metadata": {
        "id": "XrI-6-JK0Iw_"
      },
      "execution_count": null,
      "outputs": []
    },
    {
      "cell_type": "code",
      "source": [
        "# Exercício 11: Faça um Programa que peça 2 números inteiros e um número real. Calcule e mostre:\n",
        "## a. o produto do dobro do primeiro com metade do segundo.\n",
        "## b. a soma do triplo do primeiro com o terceiro.\n",
        "## c. o terceiro elevado ao cubo.\n",
        "\n",
        "numero1 = int(input(\"Primeiro número:\" ))\n",
        "numero2 = int(input(\"Segundo número:\" ))\n",
        "numero3 = float(input(\"Terceiro número:\" ))\n",
        "\n",
        "a = (2 * numero1) * (numero2 / 2)\n",
        "b = (3 * numero1) + numero3\n",
        "c = (numero3)**3\n",
        "\n",
        "print(a)\n",
        "print(b)\n",
        "print(c)"
      ],
      "metadata": {
        "colab": {
          "base_uri": "https://localhost:8080/"
        },
        "id": "4oj9X_ni0zdT",
        "outputId": "79482d10-34bd-4f1c-f00b-2c17434a1556"
      },
      "execution_count": null,
      "outputs": [
        {
          "output_type": "stream",
          "name": "stdout",
          "text": [
            "Primeiro número:2\n",
            "Segundo número:4\n",
            "Terceiro número:5.6\n",
            "8.0\n",
            "11.6\n",
            "175.61599999999996\n"
          ]
        }
      ]
    },
    {
      "cell_type": "code",
      "source": [
        "# Exercício 12: Tendo como dados de entrada a altura de uma pessoa, construa um algoritmo que calcule seu peso ideal, usando a seguinte fórmula: \n",
        "## (72.7*altura) - 58\n",
        "\n",
        "altura = float(input(\"Qual sua altura?\" ))\n",
        "peso_ideal = (72.7 * altura) - 58\n",
        "\n",
        "print (peso_ideal)\n",
        "\n"
      ],
      "metadata": {
        "colab": {
          "base_uri": "https://localhost:8080/"
        },
        "id": "vW5dGvkb5H3S",
        "outputId": "8c6c2bc6-3b17-4445-8e64-798e65051b7e"
      },
      "execution_count": null,
      "outputs": [
        {
          "output_type": "stream",
          "name": "stdout",
          "text": [
            "Qual sua altura?1.83\n",
            "75.041\n"
          ]
        }
      ]
    },
    {
      "cell_type": "code",
      "source": [
        "# Exercício 13: Tendo como dado de entrada a altura (h) de uma pessoa, construa um algoritmo que calcule seu peso ideal, utilizando as seguintes fórmulas:\n",
        "## a. Para homens: (72.7*h) - 58\n",
        "## b. Para mulheres: (62.1*h) - 44.7\n",
        "\n",
        "h = float(input(\"Qual sua altura?\" ))\n",
        "genero = str(input(\"Qual seu gênero? \"))\n",
        "peso_homens = (72.7*h) - 58\n",
        "peso_mulheres = (62.1*h) - 44.7\n",
        "\n",
        "if genero == \"masculino\":\n",
        "  print(peso_homens)\n",
        "elif genero == \"feminino\": \n",
        "  print(peso_mulheres)\n",
        "else:\n",
        "  pass"
      ],
      "metadata": {
        "colab": {
          "base_uri": "https://localhost:8080/"
        },
        "id": "9yUC9kn96685",
        "outputId": "668ea805-358d-4677-e170-eefa2f6bd1f7"
      },
      "execution_count": null,
      "outputs": [
        {
          "output_type": "stream",
          "name": "stdout",
          "text": [
            "Qual sua altura?1.58\n",
            "Qual seu gênero? feminino\n",
            "53.418000000000006\n"
          ]
        }
      ]
    },
    {
      "cell_type": "code",
      "source": [
        ""
      ],
      "metadata": {
        "id": "xEdUyFEs88CR"
      },
      "execution_count": null,
      "outputs": []
    }
  ]
}